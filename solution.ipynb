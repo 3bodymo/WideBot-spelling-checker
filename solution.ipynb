{
 "cells": [
  {
   "cell_type": "markdown",
   "metadata": {},
   "source": [
    "# Task 1 - Spelling Checker"
   ]
  },
  {
   "cell_type": "markdown",
   "metadata": {},
   "source": [
    "### Main functions"
   ]
  },
  {
   "cell_type": "code",
   "execution_count": 1,
   "metadata": {},
   "outputs": [],
   "source": [
    "def read_words_from_file(file_path):\n",
    "    with open(file_path, 'r') as file:\n",
    "        words_list = [line.strip() for line in file]\n",
    "    words_list.sort()   \n",
    "    return words_list\n",
    "\n",
    "def insert_word_into_list(words_list, new_word):\n",
    "    if new_word in words_list:\n",
    "        return \"The word already exist!\"\n",
    "    words_list.append(new_word)\n",
    "    words_list.sort()\n",
    "    return f\"The new word has been added successfully!\"\n",
    "\n",
    "def search_and_get_neighbors(words_list, search_word):\n",
    "    if search_word not in words_list:\n",
    "        # Take a copy from the dictionary until the temporary change does not affect the original dictionary\n",
    "        temp_words_list = words_list.copy()\n",
    "        insert_word_into_list(temp_words_list, search_word)\n",
    "    else:\n",
    "        # return False if the word exist in the dictionary\n",
    "        return False\n",
    "    index = temp_words_list.index(search_word)\n",
    "    neighbors = []\n",
    "    # The reason of try-except here, is to handle \"index out of range\" error,\n",
    "    # which it could appear if the word in top/button of dictionary\n",
    "    try:\n",
    "        # Take the neighbors words in lexicographical order (two before and two after)\n",
    "        neighbors.append(temp_words_list[index - 2]) \n",
    "        neighbors.append(temp_words_list[index - 1])\n",
    "        neighbors.append(temp_words_list[index + 1])\n",
    "        neighbors.append(temp_words_list[index + 2])\n",
    "    except:\n",
    "        return neighbors\n",
    "    return neighbors"
   ]
  },
  {
   "cell_type": "markdown",
   "metadata": {},
   "source": [
    "### Read dictionary from text file"
   ]
  },
  {
   "cell_type": "code",
   "execution_count": 2,
   "metadata": {},
   "outputs": [],
   "source": [
    "dictionary_path = \"dictionary.txt\"\n",
    "dictionary_list = read_words_from_file(dictionary_path)"
   ]
  },
  {
   "cell_type": "markdown",
   "metadata": {},
   "source": [
    "### Example usage"
   ]
  },
  {
   "cell_type": "markdown",
   "metadata": {},
   "source": [
    "* Insert"
   ]
  },
  {
   "cell_type": "code",
   "execution_count": 3,
   "metadata": {},
   "outputs": [
    {
     "name": "stdout",
     "output_type": "stream",
     "text": [
      "The new word has been added successfully!\n"
     ]
    }
   ],
   "source": [
    "new_word = \"app\"\n",
    "print(insert_word_into_list(dictionary_list, new_word))"
   ]
  },
  {
   "cell_type": "markdown",
   "metadata": {},
   "source": [
    "* Search"
   ]
  },
  {
   "cell_type": "code",
   "execution_count": 4,
   "metadata": {},
   "outputs": [
    {
     "name": "stdout",
     "output_type": "stream",
     "text": [
      "['appetizing', 'appetizingly', 'applaud', 'applauded']\n"
     ]
    }
   ],
   "source": [
    "search_word = \"appl\"\n",
    "neighbors = search_and_get_neighbors(dictionary_list, search_word)\n",
    "if neighbors:\n",
    "    print(neighbors)\n",
    "else:\n",
    "    print(\"The word does exist!\")"
   ]
  }
 ],
 "metadata": {
  "kernelspec": {
   "display_name": "Python 3",
   "language": "python",
   "name": "python3"
  },
  "language_info": {
   "codemirror_mode": {
    "name": "ipython",
    "version": 3
   },
   "file_extension": ".py",
   "mimetype": "text/x-python",
   "name": "python",
   "nbconvert_exporter": "python",
   "pygments_lexer": "ipython3",
   "version": "3.11.4"
  },
  "orig_nbformat": 4
 },
 "nbformat": 4,
 "nbformat_minor": 2
}
